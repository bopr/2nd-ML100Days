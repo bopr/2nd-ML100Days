{
 "cells": [
  {
   "cell_type": "markdown",
   "metadata": {},
   "source": [
    "## [作業重點]\n",
    "確保你了解隨機森林模型中每個超參數的意義，並觀察調整超參數對結果的影響"
   ]
  },
  {
   "cell_type": "markdown",
   "metadata": {},
   "source": [
    "## 作業\n",
    "\n",
    "1. 試著調整 RandomForestClassifier(...) 中的參數，並觀察是否會改變結果？\n",
    "2. 改用其他資料集 (boston, wine)，並與回歸模型與決策樹的結果進行比較"
   ]
  },
  {
   "cell_type": "code",
   "execution_count": 25,
   "metadata": {
    "collapsed": true
   },
   "outputs": [],
   "source": [
    "from sklearn import datasets, metrics\n",
    "from sklearn.ensemble import RandomForestClassifier, RandomForestRegressor\n",
    "from sklearn.model_selection import train_test_split\n",
    "from sklearn.metrics import mean_squared_error, r2_score, accuracy_score"
   ]
  },
  {
   "cell_type": "code",
   "execution_count": 36,
   "metadata": {},
   "outputs": [
    {
     "name": "stdout",
     "output_type": "stream",
     "text": [
      "Mean squared error: 19.73\n",
      "['CRIM' 'ZN' 'INDUS' 'CHAS' 'NOX' 'RM' 'AGE' 'DIS' 'RAD' 'TAX' 'PTRATIO'\n",
      " 'B' 'LSTAT']\n",
      "Feature importance:  [  5.44821495e-02   0.00000000e+00   1.60755144e-03   1.10175680e-03\n",
      "   1.83921142e-02   5.19346478e-01   1.29907315e-03   4.67367691e-02\n",
      "   4.28798649e-04   9.17974643e-03   1.25692415e-02   6.70945653e-03\n",
      "   3.28146865e-01]\n"
     ]
    }
   ],
   "source": [
    "# 讀取boston資料集\n",
    "bstn = datasets.load_boston()\n",
    "\n",
    "# 切分訓練集/測試集\n",
    "x_train, x_test, y_train, y_test = train_test_split(bstn.data, bstn.target, test_size=0.25, random_state=4)\n",
    "\n",
    "# 建立模型 (使用 20 顆樹，每棵樹的最大深度為 4)\n",
    "rfreg = RandomForestRegressor(n_estimators=20, max_depth=4)\n",
    "#n_estimators=10, 決策樹的數量量\n",
    "#criterion=\"gini\",\n",
    "#max_features=\"auto\", 如何選取 features\n",
    "#max_depth=10,\n",
    "#min_samples_split=2,\n",
    "#min_samples_leaf=1\n",
    "\n",
    "# 訓練模型\n",
    "rfreg.fit(x_train, y_train)\n",
    "\n",
    "# 預測測試集\n",
    "y_pred = rfreg.predict(x_test)\n",
    "\n",
    "print(\"Mean squared error: %.2f\"\n",
    "      % mean_squared_error(y_test, y_pred))\n",
    "#acc = metrics.accuracy_score(y_test, y_pred)\n",
    "#print(\"Accuracy: \", acc)\n",
    "print(bstn.feature_names)\n",
    "print(\"Feature importance: \", rfreg.feature_importances_)"
   ]
  },
  {
   "cell_type": "code",
   "execution_count": 46,
   "metadata": {},
   "outputs": [
    {
     "name": "stdout",
     "output_type": "stream",
     "text": [
      "Mean squared error: 16.67\n",
      "['CRIM' 'ZN' 'INDUS' 'CHAS' 'NOX' 'RM' 'AGE' 'DIS' 'RAD' 'TAX' 'PTRATIO'\n",
      " 'B' 'LSTAT']\n",
      "Feature importance:  [  6.06362576e-02   1.63983975e-03   6.84887948e-03   3.40887955e-04\n",
      "   1.62258620e-02   4.59247136e-01   1.07585130e-02   4.81363787e-02\n",
      "   3.22614518e-03   2.17333819e-02   2.24466273e-02   1.18748836e-02\n",
      "   3.36885208e-01]\n"
     ]
    }
   ],
   "source": [
    "# 讀取boston資料集\n",
    "bstn = datasets.load_boston()\n",
    "\n",
    "# 切分訓練集/測試集\n",
    "x_train, x_test, y_train, y_test = train_test_split(bstn.data, bstn.target, test_size=0.25, random_state=4)\n",
    "\n",
    "# 建立模型 (使用 20 顆樹，每棵樹的最大深度為 4)\n",
    "rfreg = RandomForestRegressor(n_estimators=20, max_depth=10)\n",
    "#n_estimators=10, 決策樹的數量量\n",
    "#criterion=\"gini\",\n",
    "#max_features=\"auto\", 如何選取 features\n",
    "#max_depth=10,\n",
    "#min_samples_split=2,\n",
    "#min_samples_leaf=1\n",
    "\n",
    "# 訓練模型\n",
    "rfreg.fit(x_train, y_train)\n",
    "\n",
    "# 預測測試集\n",
    "y_pred = rfreg.predict(x_test)\n",
    "\n",
    "print(\"Mean squared error: %.2f\"\n",
    "      % mean_squared_error(y_test, y_pred))\n",
    "#acc = metrics.accuracy_score(y_test, y_pred)\n",
    "#print(\"Accuracy: \", acc)\n",
    "print(bstn.feature_names)\n",
    "print(\"Feature importance: \", rfreg.feature_importances_)"
   ]
  },
  {
   "cell_type": "code",
   "execution_count": 47,
   "metadata": {},
   "outputs": [
    {
     "name": "stdout",
     "output_type": "stream",
     "text": [
      "Mean squared error: 14.39\n",
      "['CRIM' 'ZN' 'INDUS' 'CHAS' 'NOX' 'RM' 'AGE' 'DIS' 'RAD' 'TAX' 'PTRATIO'\n",
      " 'B' 'LSTAT']\n",
      "Feature importance:  [ 0.05235924  0.00168653  0.00818716  0.00288974  0.02101919  0.40506163\n",
      "  0.01507682  0.0304036   0.01129435  0.01936268  0.01791889  0.01222641\n",
      "  0.40251375]\n"
     ]
    }
   ],
   "source": [
    "# 讀取boston資料集\n",
    "bstn = datasets.load_boston()\n",
    "\n",
    "# 切分訓練集/測試集\n",
    "x_train, x_test, y_train, y_test = train_test_split(bstn.data, bstn.target, test_size=0.25, random_state=4)\n",
    "\n",
    "# 建立模型 (使用 20 顆樹，每棵樹的最大深度為 4)\n",
    "rfreg = RandomForestRegressor(n_estimators=20, max_depth=20)\n",
    "#n_estimators=10, 決策樹的數量量\n",
    "#criterion=\"gini\",\n",
    "#max_features=\"auto\", 如何選取 features\n",
    "#max_depth=10,\n",
    "#min_samples_split=2,\n",
    "#min_samples_leaf=1\n",
    "\n",
    "# 訓練模型\n",
    "rfreg.fit(x_train, y_train)\n",
    "\n",
    "# 預測測試集\n",
    "y_pred = rfreg.predict(x_test)\n",
    "\n",
    "print(\"Mean squared error: %.2f\"\n",
    "      % mean_squared_error(y_test, y_pred))\n",
    "#acc = metrics.accuracy_score(y_test, y_pred)\n",
    "#print(\"Accuracy: \", acc)\n",
    "print(bstn.feature_names)\n",
    "print(\"Feature importance: \", rfreg.feature_importances_)"
   ]
  },
  {
   "cell_type": "code",
   "execution_count": null,
   "metadata": {
    "collapsed": true
   },
   "outputs": [],
   "source": []
  }
 ],
 "metadata": {
  "kernelspec": {
   "display_name": "Python 3",
   "language": "python",
   "name": "python3"
  },
  "language_info": {
   "codemirror_mode": {
    "name": "ipython",
    "version": 3
   },
   "file_extension": ".py",
   "mimetype": "text/x-python",
   "name": "python",
   "nbconvert_exporter": "python",
   "pygments_lexer": "ipython3",
   "version": "3.6.1"
  }
 },
 "nbformat": 4,
 "nbformat_minor": 2
}
