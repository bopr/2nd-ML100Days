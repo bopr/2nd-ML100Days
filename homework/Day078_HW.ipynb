{
 "cells": [
  {
   "cell_type": "markdown",
   "metadata": {},
   "source": [
    "## Work\n",
    "1. 請嘗試將 preproc_x 替換成以每筆資料的 min/max 進行標準化至 -1 ~ 1 間，再進行訓練\n",
    "2. 請嘗試將 mlp 疊更深 (e.g 5~10 層)，進行訓練後觀察 learning curve 的走勢\n",
    "3. (optional) 請改用 GPU 進行訓練 (如果你有 GPU 的話)，比較使用 CPU 與 GPU 的訓練速度"
   ]
  },
  {
   "cell_type": "code",
   "execution_count": 1,
   "metadata": {},
   "outputs": [],
   "source": [
    "## \n",
    "\"\"\"\n",
    "Your code here (optional)\n",
    "確認硬體資源\n",
    "\"\"\"\n"
   ]
  },
  {
   "cell_type": "code",
   "execution_count": 1,
   "metadata": {},
   "outputs": [
    {
     "name": "stderr",
     "output_type": "stream",
     "text": [
      "Using TensorFlow backend.\n"
     ]
    }
   ],
   "source": [
    "import os\n",
    "import keras\n",
    "\n",
    "# 請嘗試設定 GPU：os.environ\n",
    "os.environ[\"CUDA_VISIBLE_DEVICES\"] = \"\""
   ]
  },
  {
   "cell_type": "code",
   "execution_count": 2,
   "metadata": {},
   "outputs": [],
   "source": [
    "train, test = keras.datasets.cifar10.load_data()"
   ]
  },
  {
   "cell_type": "code",
   "execution_count": 4,
   "metadata": {},
   "outputs": [],
   "source": [
    "## 資料前處理\n",
    "\"\"\"\n",
    "Your code here\n",
    "\"\"\"\n",
    "def preproc_x(x, flatten=True):\n",
    "    x = 2*(((x - x.min()) / (x.max() - x.min()))-0.5)\n",
    "    if flatten:\n",
    "        x = x.reshape((len(x), -1))\n",
    "    return x\n",
    "\n",
    "def preproc_y(y, num_classes=10):\n",
    "    if y.shape[-1] == 1:\n",
    "        y = keras.utils.to_categorical(y, num_classes)\n",
    "    return y"
   ]
  },
  {
   "cell_type": "code",
   "execution_count": 5,
   "metadata": {},
   "outputs": [],
   "source": [
    "x_train, y_train = train\n",
    "x_test, y_test = test\n",
    "\n",
    "# Preproc the inputs\n",
    "x_train = preproc_x(x_train)\n",
    "x_test = preproc_x(x_test)\n",
    "\n",
    "# Preprc the outputs\n",
    "y_train = preproc_y(y_train)\n",
    "y_test = preproc_y(y_test)"
   ]
  },
  {
   "cell_type": "code",
   "execution_count": 8,
   "metadata": {},
   "outputs": [],
   "source": [
    "\"\"\"Code Here\n",
    "建立你的神經網路\n",
    "\"\"\"\n",
    "def build_mlp(input_shape, output_units=10, num_neurons=[512, 256, 128, 64]):\n",
    "    input_layer = keras.layers.Input(input_shape)\n",
    "    \n",
    "    for i, n_units in enumerate(num_neurons):\n",
    "        if i == 0:\n",
    "            x = keras.layers.Dense(units=n_units, activation=\"relu\", name=\"hidden_layer\"+str(i+1))(input_layer)\n",
    "        else:\n",
    "            x = keras.layers.Dense(units=n_units, activation=\"relu\", name=\"hidden_layer\"+str(i+1))(x)\n",
    "    \n",
    "    out = keras.layers.Dense(units=output_units, activation=\"softmax\", name=\"output\")(x)\n",
    "    \n",
    "    model = keras.models.Model(inputs=[input_layer], outputs=[out])\n",
    "    return model"
   ]
  },
  {
   "cell_type": "code",
   "execution_count": 9,
   "metadata": {},
   "outputs": [
    {
     "name": "stdout",
     "output_type": "stream",
     "text": [
      "WARNING:tensorflow:From C:\\Users\\Bopuc\\Anaconda3\\envs\\py3\\lib\\site-packages\\tensorflow\\python\\framework\\op_def_library.py:263: colocate_with (from tensorflow.python.framework.ops) is deprecated and will be removed in a future version.\n",
      "Instructions for updating:\n",
      "Colocations handled automatically by placer.\n",
      "_________________________________________________________________\n",
      "Layer (type)                 Output Shape              Param #   \n",
      "=================================================================\n",
      "input_1 (InputLayer)         (None, 3072)              0         \n",
      "_________________________________________________________________\n",
      "hidden_layer1 (Dense)        (None, 512)               1573376   \n",
      "_________________________________________________________________\n",
      "hidden_layer2 (Dense)        (None, 256)               131328    \n",
      "_________________________________________________________________\n",
      "hidden_layer3 (Dense)        (None, 128)               32896     \n",
      "_________________________________________________________________\n",
      "hidden_layer4 (Dense)        (None, 64)                8256      \n",
      "_________________________________________________________________\n",
      "output (Dense)               (None, 10)                650       \n",
      "=================================================================\n",
      "Total params: 1,746,506\n",
      "Trainable params: 1,746,506\n",
      "Non-trainable params: 0\n",
      "_________________________________________________________________\n"
     ]
    }
   ],
   "source": [
    "model = build_mlp(input_shape=x_train.shape[1:])\n",
    "model.summary()"
   ]
  },
  {
   "cell_type": "code",
   "execution_count": 10,
   "metadata": {},
   "outputs": [],
   "source": [
    "## 超參數設定\n",
    "LEARNING_RATE = 0.001\n",
    "EPOCHS = 100\n",
    "BATCH_SIZE = 256"
   ]
  },
  {
   "cell_type": "code",
   "execution_count": 11,
   "metadata": {},
   "outputs": [],
   "source": [
    "optimizer = keras.optimizers.Adam(lr=LEARNING_RATE)\n",
    "model.compile(loss=\"categorical_crossentropy\", metrics=[\"accuracy\"], optimizer=optimizer)"
   ]
  },
  {
   "cell_type": "code",
   "execution_count": 12,
   "metadata": {},
   "outputs": [
    {
     "name": "stdout",
     "output_type": "stream",
     "text": [
      "WARNING:tensorflow:From C:\\Users\\Bopuc\\Anaconda3\\envs\\py3\\lib\\site-packages\\tensorflow\\python\\ops\\math_ops.py:3066: to_int32 (from tensorflow.python.ops.math_ops) is deprecated and will be removed in a future version.\n",
      "Instructions for updating:\n",
      "Use tf.cast instead.\n",
      "Train on 50000 samples, validate on 10000 samples\n",
      "Epoch 1/100\n",
      "50000/50000 [==============================] - 11s 225us/step - loss: 1.7036 - acc: 0.3953 - val_loss: 1.5541 - val_acc: 0.4464\n",
      "Epoch 2/100\n",
      "50000/50000 [==============================] - 10s 202us/step - loss: 1.4701 - acc: 0.4813 - val_loss: 1.4503 - val_acc: 0.4831\n",
      "Epoch 3/100\n",
      "50000/50000 [==============================] - 10s 201us/step - loss: 1.3543 - acc: 0.5239 - val_loss: 1.4362 - val_acc: 0.4897\n",
      "Epoch 4/100\n",
      "50000/50000 [==============================] - 10s 201us/step - loss: 1.2607 - acc: 0.5557 - val_loss: 1.4171 - val_acc: 0.5123\n",
      "Epoch 5/100\n",
      "50000/50000 [==============================] - 11s 212us/step - loss: 1.1801 - acc: 0.5843 - val_loss: 1.3979 - val_acc: 0.5186\n",
      "Epoch 6/100\n",
      "50000/50000 [==============================] - 11s 216us/step - loss: 1.0944 - acc: 0.6127 - val_loss: 1.3968 - val_acc: 0.5259\n",
      "Epoch 7/100\n",
      "50000/50000 [==============================] - 11s 217us/step - loss: 1.0267 - acc: 0.6362 - val_loss: 1.3830 - val_acc: 0.5278\n",
      "Epoch 8/100\n",
      "50000/50000 [==============================] - 11s 219us/step - loss: 0.9495 - acc: 0.6616 - val_loss: 1.4299 - val_acc: 0.5317\n",
      "Epoch 9/100\n",
      "50000/50000 [==============================] - 11s 222us/step - loss: 0.8792 - acc: 0.6891 - val_loss: 1.4626 - val_acc: 0.5305\n",
      "Epoch 10/100\n",
      "50000/50000 [==============================] - 13s 255us/step - loss: 0.8190 - acc: 0.7082 - val_loss: 1.5042 - val_acc: 0.5319\n",
      "Epoch 11/100\n",
      "50000/50000 [==============================] - 13s 252us/step - loss: 0.7483 - acc: 0.7338 - val_loss: 1.5347 - val_acc: 0.5410 acc: 0.7\n",
      "Epoch 12/100\n",
      "50000/50000 [==============================] - 13s 255us/step - loss: 0.6899 - acc: 0.7579 - val_loss: 1.5850 - val_acc: 0.5409\n",
      "Epoch 13/100\n",
      "50000/50000 [==============================] - 13s 265us/step - loss: 0.6233 - acc: 0.7801 - val_loss: 1.7368 - val_acc: 0.5294\n",
      "Epoch 14/100\n",
      "50000/50000 [==============================] - 13s 267us/step - loss: 0.5763 - acc: 0.7971 - val_loss: 1.7281 - val_acc: 0.5319\n",
      "Epoch 15/100\n",
      "50000/50000 [==============================] - 13s 262us/step - loss: 0.5225 - acc: 0.8157 - val_loss: 1.8201 - val_acc: 0.5282\n",
      "Epoch 16/100\n",
      "50000/50000 [==============================] - 13s 262us/step - loss: 0.4831 - acc: 0.8285 - val_loss: 1.8744 - val_acc: 0.5391\n",
      "Epoch 17/100\n",
      "50000/50000 [==============================] - 13s 262us/step - loss: 0.4258 - acc: 0.8501 - val_loss: 2.0118 - val_acc: 0.5306\n",
      "Epoch 18/100\n",
      "50000/50000 [==============================] - 13s 259us/step - loss: 0.3909 - acc: 0.8631 - val_loss: 2.0935 - val_acc: 0.5246\n",
      "Epoch 19/100\n",
      "50000/50000 [==============================] - 13s 260us/step - loss: 0.3670 - acc: 0.8699 - val_loss: 2.2052 - val_acc: 0.5270\n",
      "Epoch 20/100\n",
      "50000/50000 [==============================] - 13s 262us/step - loss: 0.3441 - acc: 0.8792 - val_loss: 2.3314 - val_acc: 0.5344\n",
      "Epoch 21/100\n",
      "50000/50000 [==============================] - 13s 268us/step - loss: 0.3140 - acc: 0.8900 - val_loss: 2.2905 - val_acc: 0.5220\n",
      "Epoch 22/100\n",
      "50000/50000 [==============================] - 13s 268us/step - loss: 0.2757 - acc: 0.9033 - val_loss: 2.4823 - val_acc: 0.5313\n",
      "Epoch 23/100\n",
      "50000/50000 [==============================] - 14s 271us/step - loss: 0.2902 - acc: 0.8979 - val_loss: 2.5537 - val_acc: 0.5270\n",
      "Epoch 24/100\n",
      "50000/50000 [==============================] - 14s 275us/step - loss: 0.2654 - acc: 0.9089 - val_loss: 2.6287 - val_acc: 0.5206\n",
      "Epoch 25/100\n",
      "50000/50000 [==============================] - 14s 272us/step - loss: 0.2394 - acc: 0.9169 - val_loss: 2.7236 - val_acc: 0.5282\n",
      "Epoch 26/100\n",
      "50000/50000 [==============================] - 13s 267us/step - loss: 0.2261 - acc: 0.9203 - val_loss: 2.7189 - val_acc: 0.5322\n",
      "Epoch 27/100\n",
      "50000/50000 [==============================] - 14s 282us/step - loss: 0.2090 - acc: 0.9263 - val_loss: 2.8919 - val_acc: 0.5225\n",
      "Epoch 28/100\n",
      "50000/50000 [==============================] - 14s 276us/step - loss: 0.2305 - acc: 0.9197 - val_loss: 2.7707 - val_acc: 0.5292\n",
      "Epoch 29/100\n",
      "50000/50000 [==============================] - 14s 280us/step - loss: 0.1927 - acc: 0.9329 - val_loss: 2.9924 - val_acc: 0.5258\n",
      "Epoch 30/100\n",
      "50000/50000 [==============================] - 14s 281us/step - loss: 0.1781 - acc: 0.9380 - val_loss: 3.0460 - val_acc: 0.5285\n",
      "Epoch 31/100\n",
      "50000/50000 [==============================] - 14s 285us/step - loss: 0.1923 - acc: 0.9344 - val_loss: 2.9648 - val_acc: 0.5268\n",
      "Epoch 32/100\n",
      "50000/50000 [==============================] - 15s 292us/step - loss: 0.1951 - acc: 0.9324 - val_loss: 3.1088 - val_acc: 0.5235\n",
      "Epoch 33/100\n",
      "50000/50000 [==============================] - 15s 293us/step - loss: 0.1654 - acc: 0.9427 - val_loss: 3.1842 - val_acc: 0.5274\n",
      "Epoch 34/100\n",
      "50000/50000 [==============================] - 15s 292us/step - loss: 0.1638 - acc: 0.9445 - val_loss: 3.2193 - val_acc: 0.5280\n",
      "Epoch 35/100\n",
      "50000/50000 [==============================] - 15s 296us/step - loss: 0.1762 - acc: 0.9400 - val_loss: 3.2723 - val_acc: 0.5242\n",
      "Epoch 36/100\n",
      "50000/50000 [==============================] - 15s 294us/step - loss: 0.1504 - acc: 0.9493 - val_loss: 3.3482 - val_acc: 0.5230\n",
      "Epoch 37/100\n",
      "50000/50000 [==============================] - 15s 299us/step - loss: 0.1569 - acc: 0.9468 - val_loss: 3.3414 - val_acc: 0.5268\n",
      "Epoch 38/100\n",
      "50000/50000 [==============================] - 15s 303us/step - loss: 0.1646 - acc: 0.9424 - val_loss: 3.2972 - val_acc: 0.5233\n",
      "Epoch 39/100\n",
      "50000/50000 [==============================] - 17s 344us/step - loss: 0.1284 - acc: 0.9571 - val_loss: 3.3680 - val_acc: 0.5248\n",
      "Epoch 40/100\n",
      "50000/50000 [==============================] - 16s 321us/step - loss: 0.1432 - acc: 0.9520 - val_loss: 3.4262 - val_acc: 0.5254\n",
      "Epoch 41/100\n",
      "50000/50000 [==============================] - 16s 318us/step - loss: 0.1610 - acc: 0.9452 - val_loss: 3.4589 - val_acc: 0.5263\n",
      "Epoch 42/100\n",
      "50000/50000 [==============================] - 16s 312us/step - loss: 0.1347 - acc: 0.9544 - val_loss: 3.4925 - val_acc: 0.5111\n",
      "Epoch 43/100\n",
      "50000/50000 [==============================] - 16s 316us/step - loss: 0.1286 - acc: 0.9555 - val_loss: 3.5338 - val_acc: 0.5232\n",
      "Epoch 44/100\n",
      "50000/50000 [==============================] - 16s 319us/step - loss: 0.1271 - acc: 0.9576 - val_loss: 3.4854 - val_acc: 0.5244\n",
      "Epoch 45/100\n",
      "50000/50000 [==============================] - 16s 324us/step - loss: 0.1276 - acc: 0.9563 - val_loss: 3.5395 - val_acc: 0.5293\n",
      "Epoch 46/100\n",
      "50000/50000 [==============================] - 16s 330us/step - loss: 0.1032 - acc: 0.9656 - val_loss: 3.6671 - val_acc: 0.5206\n",
      "Epoch 47/100\n",
      "50000/50000 [==============================] - 18s 351us/step - loss: 0.1443 - acc: 0.9525 - val_loss: 3.5929 - val_acc: 0.5209\n",
      "Epoch 48/100\n",
      "50000/50000 [==============================] - 16s 327us/step - loss: 0.1408 - acc: 0.9533 - val_loss: 3.6453 - val_acc: 0.5240\n",
      "Epoch 49/100\n",
      "50000/50000 [==============================] - 17s 331us/step - loss: 0.1015 - acc: 0.9660 - val_loss: 3.6481 - val_acc: 0.5239\n",
      "Epoch 50/100\n",
      "50000/50000 [==============================] - 17s 350us/step - loss: 0.1128 - acc: 0.9628 - val_loss: 3.7891 - val_acc: 0.5226\n",
      "Epoch 51/100\n",
      "50000/50000 [==============================] - 17s 342us/step - loss: 0.1065 - acc: 0.9656 - val_loss: 3.7214 - val_acc: 0.5298\n",
      "Epoch 52/100\n",
      "50000/50000 [==============================] - 17s 346us/step - loss: 0.1061 - acc: 0.9641 - val_loss: 3.8593 - val_acc: 0.5247\n",
      "Epoch 53/100\n",
      "50000/50000 [==============================] - 17s 347us/step - loss: 0.1134 - acc: 0.9630 - val_loss: 3.6936 - val_acc: 0.5263\n",
      "Epoch 54/100\n",
      "50000/50000 [==============================] - 17s 346us/step - loss: 0.1314 - acc: 0.9571 - val_loss: 3.7546 - val_acc: 0.5244\n",
      "Epoch 55/100\n",
      "50000/50000 [==============================] - 17s 349us/step - loss: 0.1173 - acc: 0.9612 - val_loss: 3.7064 - val_acc: 0.5265\n",
      "Epoch 56/100\n",
      "50000/50000 [==============================] - 18s 351us/step - loss: 0.1185 - acc: 0.9612 - val_loss: 3.7808 - val_acc: 0.5258\n"
     ]
    },
    {
     "name": "stdout",
     "output_type": "stream",
     "text": [
      "Epoch 57/100\n",
      "50000/50000 [==============================] - 17s 342us/step - loss: 0.0859 - acc: 0.9712 - val_loss: 3.8030 - val_acc: 0.5265\n",
      "Epoch 58/100\n",
      "50000/50000 [==============================] - 20s 399us/step - loss: 0.0724 - acc: 0.9759 - val_loss: 3.9144 - val_acc: 0.5272\n",
      "Epoch 59/100\n",
      "50000/50000 [==============================] - 17s 341us/step - loss: 0.1027 - acc: 0.9667 - val_loss: 3.8884 - val_acc: 0.5242\n",
      "Epoch 60/100\n",
      "50000/50000 [==============================] - 18s 358us/step - loss: 0.1323 - acc: 0.9565 - val_loss: 3.8912 - val_acc: 0.5191\n",
      "Epoch 61/100\n",
      "50000/50000 [==============================] - 18s 357us/step - loss: 0.1015 - acc: 0.9677 - val_loss: 3.8310 - val_acc: 0.5259\n",
      "Epoch 62/100\n",
      "50000/50000 [==============================] - 17s 342us/step - loss: 0.0802 - acc: 0.9731 - val_loss: 3.9914 - val_acc: 0.5228\n",
      "Epoch 63/100\n",
      "50000/50000 [==============================] - 18s 353us/step - loss: 0.0870 - acc: 0.9715 - val_loss: 3.9926 - val_acc: 0.5256\n",
      "Epoch 64/100\n",
      "50000/50000 [==============================] - 18s 350us/step - loss: 0.1259 - acc: 0.9589 - val_loss: 3.8316 - val_acc: 0.5290\n",
      "Epoch 65/100\n",
      "50000/50000 [==============================] - 17s 345us/step - loss: 0.0993 - acc: 0.9674 - val_loss: 3.8479 - val_acc: 0.5276\n",
      "Epoch 66/100\n",
      "50000/50000 [==============================] - 17s 348us/step - loss: 0.0837 - acc: 0.9721 - val_loss: 3.9079 - val_acc: 0.5298\n",
      "Epoch 67/100\n",
      "50000/50000 [==============================] - 17s 349us/step - loss: 0.0814 - acc: 0.9735 - val_loss: 3.9273 - val_acc: 0.5270\n",
      "Epoch 68/100\n",
      "50000/50000 [==============================] - 17s 344us/step - loss: 0.0864 - acc: 0.9718 - val_loss: 4.0021 - val_acc: 0.5290\n",
      "Epoch 69/100\n",
      "50000/50000 [==============================] - 17s 344us/step - loss: 0.1336 - acc: 0.9567 - val_loss: 3.8934 - val_acc: 0.5200\n",
      "Epoch 70/100\n",
      "50000/50000 [==============================] - 18s 352us/step - loss: 0.0838 - acc: 0.9726 - val_loss: 3.9021 - val_acc: 0.5310\n",
      "Epoch 71/100\n",
      "50000/50000 [==============================] - 18s 369us/step - loss: 0.0594 - acc: 0.9805 - val_loss: 3.9777 - val_acc: 0.5341\n",
      "Epoch 72/100\n",
      "50000/50000 [==============================] - 18s 366us/step - loss: 0.0880 - acc: 0.9721 - val_loss: 4.0244 - val_acc: 0.5287\n",
      "Epoch 73/100\n",
      "50000/50000 [==============================] - 18s 361us/step - loss: 0.0948 - acc: 0.9691 - val_loss: 3.9487 - val_acc: 0.5297\n",
      "Epoch 74/100\n",
      "50000/50000 [==============================] - 20s 392us/step - loss: 0.0656 - acc: 0.9789 - val_loss: 4.0692 - val_acc: 0.5270\n",
      "Epoch 75/100\n",
      "50000/50000 [==============================] - 20s 398us/step - loss: 0.0678 - acc: 0.9774 - val_loss: 4.0903 - val_acc: 0.5225\n",
      "Epoch 76/100\n",
      "50000/50000 [==============================] - 18s 368us/step - loss: 0.1036 - acc: 0.9675 - val_loss: 4.0249 - val_acc: 0.5165\n",
      "Epoch 77/100\n",
      "50000/50000 [==============================] - 18s 369us/step - loss: 0.0859 - acc: 0.9732 - val_loss: 4.1179 - val_acc: 0.5281\n",
      "Epoch 78/100\n",
      "50000/50000 [==============================] - 18s 369us/step - loss: 0.0854 - acc: 0.9720 - val_loss: 4.1191 - val_acc: 0.5283\n",
      "Epoch 79/100\n",
      "50000/50000 [==============================] - 19s 374us/step - loss: 0.0818 - acc: 0.9746 - val_loss: 4.1225 - val_acc: 0.5194\n",
      "Epoch 80/100\n",
      "50000/50000 [==============================] - 20s 404us/step - loss: 0.0945 - acc: 0.9697 - val_loss: 4.0561 - val_acc: 0.5236\n",
      "Epoch 81/100\n",
      "50000/50000 [==============================] - 19s 373us/step - loss: 0.0663 - acc: 0.9783 - val_loss: 4.1136 - val_acc: 0.5284\n",
      "Epoch 82/100\n",
      "50000/50000 [==============================] - 19s 378us/step - loss: 0.0625 - acc: 0.9798 - val_loss: 4.1146 - val_acc: 0.5316\n",
      "Epoch 83/100\n",
      "50000/50000 [==============================] - 19s 370us/step - loss: 0.0785 - acc: 0.9747 - val_loss: 4.1662 - val_acc: 0.5276\n",
      "Epoch 84/100\n",
      "50000/50000 [==============================] - 18s 369us/step - loss: 0.0952 - acc: 0.9696 - val_loss: 4.1779 - val_acc: 0.5227\n",
      "Epoch 85/100\n",
      "50000/50000 [==============================] - 18s 370us/step - loss: 0.0823 - acc: 0.9732 - val_loss: 4.0900 - val_acc: 0.5260\n",
      "Epoch 86/100\n",
      "50000/50000 [==============================] - 18s 368us/step - loss: 0.0709 - acc: 0.9780 - val_loss: 4.1799 - val_acc: 0.5259\n",
      "Epoch 87/100\n",
      "50000/50000 [==============================] - 19s 374us/step - loss: 0.0645 - acc: 0.9790 - val_loss: 4.1641 - val_acc: 0.52636 - acc: 0. - ETA\n",
      "Epoch 88/100\n",
      "50000/50000 [==============================] - 19s 372us/step - loss: 0.0700 - acc: 0.9770 - val_loss: 4.1429 - val_acc: 0.5358\n",
      "Epoch 89/100\n",
      "50000/50000 [==============================] - 19s 373us/step - loss: 0.0793 - acc: 0.9749 - val_loss: 4.1390 - val_acc: 0.5345\n",
      "Epoch 90/100\n",
      "50000/50000 [==============================] - 20s 396us/step - loss: 0.0731 - acc: 0.9764 - val_loss: 4.1702 - val_acc: 0.5334\n",
      "Epoch 91/100\n",
      "50000/50000 [==============================] - 19s 377us/step - loss: 0.0622 - acc: 0.9808 - val_loss: 4.2250 - val_acc: 0.5309\n",
      "Epoch 92/100\n",
      "50000/50000 [==============================] - 19s 389us/step - loss: 0.0656 - acc: 0.9796 - val_loss: 4.1849 - val_acc: 0.5289\n",
      "Epoch 93/100\n",
      "50000/50000 [==============================] - 19s 376us/step - loss: 0.0674 - acc: 0.9781 - val_loss: 4.2313 - val_acc: 0.5281\n",
      "Epoch 94/100\n",
      "50000/50000 [==============================] - 18s 366us/step - loss: 0.0882 - acc: 0.9725 - val_loss: 4.1773 - val_acc: 0.5290\n",
      "Epoch 95/100\n",
      "50000/50000 [==============================] - 18s 364us/step - loss: 0.0777 - acc: 0.9749 - val_loss: 4.1757 - val_acc: 0.5339\n",
      "Epoch 96/100\n",
      "50000/50000 [==============================] - 18s 369us/step - loss: 0.0757 - acc: 0.9767 - val_loss: 4.2263 - val_acc: 0.5264\n",
      "Epoch 97/100\n",
      "50000/50000 [==============================] - 19s 370us/step - loss: 0.0790 - acc: 0.9757 - val_loss: 4.2206 - val_acc: 0.5222\n",
      "Epoch 98/100\n",
      "50000/50000 [==============================] - 19s 374us/step - loss: 0.0610 - acc: 0.9808 - val_loss: 4.2224 - val_acc: 0.5308\n",
      "Epoch 99/100\n",
      "50000/50000 [==============================] - 19s 376us/step - loss: 0.0409 - acc: 0.9867 - val_loss: 4.2560 - val_acc: 0.5341\n",
      "Epoch 100/100\n",
      "50000/50000 [==============================] - 18s 366us/step - loss: 0.0602 - acc: 0.9811 - val_loss: 4.2706 - val_acc: 0.5272\n"
     ]
    },
    {
     "data": {
      "text/plain": [
       "<keras.callbacks.History at 0x210b4fe76d8>"
      ]
     },
     "execution_count": 12,
     "metadata": {},
     "output_type": "execute_result"
    }
   ],
   "source": [
    "model.fit(x_train, y_train, \n",
    "          epochs=EPOCHS, \n",
    "          batch_size=BATCH_SIZE, \n",
    "          validation_data=(x_test, y_test), \n",
    "          shuffle=True)"
   ]
  },
  {
   "cell_type": "code",
   "execution_count": 14,
   "metadata": {},
   "outputs": [
    {
     "data": {
      "image/png": "[encoded data removed]",
      "text/plain": [
       "<Figure size 432x288 with 1 Axes>"
      ]
     },
     "metadata": {
      "needs_background": "light"
     },
     "output_type": "display_data"
    }
   ],
   "source": [
    "import matplotlib.pyplot as plt\n",
    "\n",
    "\n",
    "train_loss = model.history.history[\"loss\"]\n",
    "valid_loss = model.history.history[\"val_loss\"]\n",
    "\n",
    "train_acc = model.history.history[\"acc\"]\n",
    "valid_acc = model.history.history[\"val_acc\"]\n",
    "\n",
    "plt.plot(range(len(train_loss)), train_loss, label=\"train loss\")\n",
    "plt.plot(range(len(valid_loss)), valid_loss, label=\"valid loss\")\n",
    "plt.legend()\n",
    "plt.title(\"Loss\")\n",
    "plt.show()"
   ]
  },
  {
   "cell_type": "code",
   "execution_count": 15,
   "metadata": {},
   "outputs": [
    {
     "data": {
      "image/png": "[encoded data removed]",
      "text/plain": [
       "<Figure size 432x288 with 1 Axes>"
      ]
     },
     "metadata": {
      "needs_background": "light"
     },
     "output_type": "display_data"
    }
   ],
   "source": [
    "plt.plot(range(len(train_acc)), train_acc, label=\"train accuracy\")\n",
    "plt.plot(range(len(valid_acc)), valid_acc, label=\"valid accuracy\")\n",
    "plt.legend()\n",
    "plt.title(\"Accuracy\")\n",
    "plt.show()"
   ]
  },
  {
   "cell_type": "code",
   "execution_count": null,
   "metadata": {},
   "outputs": [],
   "source": []
  }
 ],
 "metadata": {
  "kernelspec": {
   "display_name": "Python 3",
   "language": "python",
   "name": "python3"
  },
  "language_info": {
   "codemirror_mode": {
    "name": "ipython",
    "version": 3
   },
   "file_extension": ".py",
   "mimetype": "text/x-python",
   "name": "python",
   "nbconvert_exporter": "python",
   "pygments_lexer": "ipython3",
   "version": "3.7.3"
  }
 },
 "nbformat": 4,
 "nbformat_minor": 2
}
