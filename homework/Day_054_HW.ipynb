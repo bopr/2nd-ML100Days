{
 "cells": [
  {
   "cell_type": "markdown",
   "metadata": {},
   "source": [
    "# 作業\n",
    "* 試著想想看, 非監督學習是否有可能使用評價函數 (Metric) 來鑑別好壞呢?  \n",
    "(Hint : 可以分為 \"有目標值\" 與 \"無目標值\" 兩個方向思考)"
   ]
  },
  {
   "cell_type": "markdown",
   "metadata": {
    "collapsed": true
   },
   "source": [
    "非監督式學習主要是在處理群體的分類問題，通常是沒有目標值，也就是期望能找將同類性質的歸為一群，其學習目標在於使群內的差異最小，群間差異最大。若是有目標值，一般是屬於監督式學習的處裡範疇，有預測值與實際值，如此便可以使用評價函數來確認準確度。若是無目標值的非監督式學習，則需將分群結果與實際的分類對應(這個部分不見得容易，畢竟實際上就是不知道相關分類)，若能對應上，則也會有預測值與實際值，如此便可以使用評價函數。"
   ]
  }
 ],
 "metadata": {
  "kernelspec": {
   "display_name": "Python 3",
   "language": "python",
   "name": "python3"
  },
  "language_info": {
   "codemirror_mode": {
    "name": "ipython",
    "version": 3
   },
   "file_extension": ".py",
   "mimetype": "text/x-python",
   "name": "python",
   "nbconvert_exporter": "python",
   "pygments_lexer": "ipython3",
   "version": "3.6.8"
  }
 },
 "nbformat": 4,
 "nbformat_minor": 1
}
