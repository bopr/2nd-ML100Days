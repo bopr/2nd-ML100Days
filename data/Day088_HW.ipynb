{
 "cells": [
  {
   "cell_type": "markdown",
   "metadata": {},
   "source": [
    "## Work\n",
    "1. 請嘗試寫一個 callback 用來記錄各類別在訓練過程中，對驗證集的 True Positive 與 True Negative"
   ]
  },
  {
   "cell_type": "code",
   "execution_count": 1,
   "metadata": {},
   "outputs": [
    {
     "name": "stderr",
     "output_type": "stream",
     "text": [
      "Using TensorFlow backend.\n"
     ]
    }
   ],
   "source": [
    "import os\n",
    "import keras\n",
    "\n",
    "# Disable GPU\n",
    "os.environ[\"CUDA_VISIBLE_DEVICES\"] = \"\""
   ]
  },
  {
   "cell_type": "code",
   "execution_count": 2,
   "metadata": {},
   "outputs": [],
   "source": [
    "train, test = keras.datasets.cifar10.load_data()"
   ]
  },
  {
   "cell_type": "code",
   "execution_count": 3,
   "metadata": {},
   "outputs": [],
   "source": [
    "## 資料前處理\n",
    "def preproc_x(x, flatten=True):\n",
    "    x = x / 255.\n",
    "    if flatten:\n",
    "        x = x.reshape((len(x), -1))\n",
    "    return x\n",
    "\n",
    "def preproc_y(y, num_classes=10):\n",
    "    if y.shape[-1] == 1:\n",
    "        y = keras.utils.to_categorical(y, num_classes)\n",
    "    return y    "
   ]
  },
  {
   "cell_type": "code",
   "execution_count": 4,
   "metadata": {},
   "outputs": [],
   "source": [
    "x_train, y_train = train\n",
    "x_test, y_test = test\n",
    "\n",
    "# Preproc the inputs\n",
    "x_train = preproc_x(x_train)\n",
    "x_test = preproc_x(x_test)\n",
    "\n",
    "# Preprc the outputs\n",
    "y_train = preproc_y(y_train)\n",
    "y_test = preproc_y(y_test)"
   ]
  },
  {
   "cell_type": "code",
   "execution_count": 5,
   "metadata": {},
   "outputs": [],
   "source": [
    "from keras.layers import BatchNormalization\n",
    "def build_mlp(input_shape, output_units=10, num_neurons=[128, 64, 32]):\n",
    "    \"\"\"Code Here\n",
    "    建立你的神經網路\n",
    "    \"\"\"\n",
    "    input_layer = keras.layers.Input(input_shape)\n",
    "    \n",
    "    for i, n_units in enumerate(num_neurons):\n",
    "        if i == 0:\n",
    "            x = keras.layers.Dense(units=n_units, \n",
    "                                   activation=\"relu\", \n",
    "                                   name=\"hidden_layer\"+str(i+1))(input_layer)\n",
    "            x = BatchNormalization()(x)\n",
    "        else:\n",
    "            x = keras.layers.Dense(units=n_units, \n",
    "                                   activation=\"relu\", \n",
    "                                   name=\"hidden_layer\"+str(i+1))(x)\n",
    "            x = BatchNormalization()(x)\n",
    "    \n",
    "    out = keras.layers.Dense(units=output_units, activation=\"softmax\", name=\"output\")(x)\n",
    "    \n",
    "    model = keras.models.Model(inputs=[input_layer], outputs=[out])\n",
    "    return model"
   ]
  },
  {
   "cell_type": "code",
   "execution_count": 6,
   "metadata": {},
   "outputs": [],
   "source": [
    "## 超參數設定\n",
    "LEARNING_RATE = 1e-3\n",
    "EPOCHS = 25\n",
    "BATCH_SIZE = 1024\n",
    "MOMENTUM = 0.95"
   ]
  },
  {
   "cell_type": "code",
   "execution_count": 7,
   "metadata": {},
   "outputs": [],
   "source": [
    "# 載入 Callbacks\n",
    "from keras.callbacks import Callback\n",
    "\n",
    "# Record_fp_tp\n",
    "class Record_tp_tn(Callback):\n",
    "    \"\"\"Code Here\n",
    "    撰寫一個紀錄 ture positive 與 true negative 數量的 callbacks    \n",
    "    \"\"\"\n",
    "    def on_train_begin(self, epoch, logs = {}):\n",
    "        logs = logs or {}\n",
    "        record_items = [\"val_tp\", \"val_tn\"]\n",
    "        for i in record_items:\n",
    "            if i not in self.params['metrics']:\n",
    "                self.params['metrics'].append(i)\n",
    "    \n",
    "    def on_epoch_end(self, epoch, logs = {}, thres=0.5):\n",
    "        logs = logs or {}\n",
    "        y_true = self.validation_data[1].argmax(axis = 1)\n",
    "        y_pred = self.model.predict(self.validation_data[0])\n",
    "        y_pred = (y_pred[:, 1] >= thres) * 1\n",
    "        \n",
    "        val_tp = sum(y_true*y_pred)\n",
    "        val_tn = sum((y_true==0) & (y_pred==0))\n",
    "        \n",
    "        logs[\"val_tp\"] = val_tp\n",
    "        logs[\"val_tn\"] = val_tn\n",
    "        \n",
    "rec_tptn = Record_tp_tn()"
   ]
  },
  {
   "cell_type": "code",
   "execution_count": 8,
   "metadata": {
    "scrolled": true
   },
   "outputs": [
    {
     "name": "stdout",
     "output_type": "stream",
     "text": [
      "WARNING:tensorflow:From C:\\Users\\Bopuc\\Anaconda3\\envs\\py3\\lib\\site-packages\\tensorflow\\python\\framework\\op_def_library.py:263: colocate_with (from tensorflow.python.framework.ops) is deprecated and will be removed in a future version.\n",
      "Instructions for updating:\n",
      "Colocations handled automatically by placer.\n",
      "_________________________________________________________________\n",
      "Layer (type)                 Output Shape              Param #   \n",
      "=================================================================\n",
      "input_1 (InputLayer)         (None, 3072)              0         \n",
      "_________________________________________________________________\n",
      "hidden_layer1 (Dense)        (None, 128)               393344    \n",
      "_________________________________________________________________\n",
      "batch_normalization_1 (Batch (None, 128)               512       \n",
      "_________________________________________________________________\n",
      "hidden_layer2 (Dense)        (None, 64)                8256      \n",
      "_________________________________________________________________\n",
      "batch_normalization_2 (Batch (None, 64)                256       \n",
      "_________________________________________________________________\n",
      "hidden_layer3 (Dense)        (None, 32)                2080      \n",
      "_________________________________________________________________\n",
      "batch_normalization_3 (Batch (None, 32)                128       \n",
      "_________________________________________________________________\n",
      "output (Dense)               (None, 10)                330       \n",
      "=================================================================\n",
      "Total params: 404,906\n",
      "Trainable params: 404,458\n",
      "Non-trainable params: 448\n",
      "_________________________________________________________________\n",
      "WARNING:tensorflow:From C:\\Users\\Bopuc\\Anaconda3\\envs\\py3\\lib\\site-packages\\tensorflow\\python\\ops\\math_ops.py:3066: to_int32 (from tensorflow.python.ops.math_ops) is deprecated and will be removed in a future version.\n",
      "Instructions for updating:\n",
      "Use tf.cast instead.\n",
      "Train on 50000 samples, validate on 10000 samples\n",
      "Epoch 1/25\n",
      "50000/50000 [==============================] - 7s 146us/step - loss: 2.3253 - acc: 0.2165 - val_loss: 2.4060 - val_acc: 0.2569\n",
      "Epoch 2/25\n",
      "50000/50000 [==============================] - 5s 90us/step - loss: 1.9022 - acc: 0.3313 - val_loss: 2.0451 - val_acc: 0.3067\n",
      "Epoch 3/25\n",
      "50000/50000 [==============================] - 4s 86us/step - loss: 1.7845 - acc: 0.3775 - val_loss: 1.8279 - val_acc: 0.3573\n",
      "Epoch 4/25\n",
      "50000/50000 [==============================] - 4s 86us/step - loss: 1.7189 - acc: 0.4003 - val_loss: 1.7534 - val_acc: 0.3738\n",
      "Epoch 5/25\n",
      "50000/50000 [==============================] - 4s 79us/step - loss: 1.6735 - acc: 0.4150 - val_loss: 1.7219 - val_acc: 0.3927\n",
      "Epoch 6/25\n",
      "50000/50000 [==============================] - 4s 79us/step - loss: 1.6374 - acc: 0.4275 - val_loss: 1.6724 - val_acc: 0.4077\n",
      "Epoch 7/25\n",
      "50000/50000 [==============================] - 4s 79us/step - loss: 1.6073 - acc: 0.4380 - val_loss: 1.6636 - val_acc: 0.4093\n",
      "Epoch 8/25\n",
      "50000/50000 [==============================] - 4s 80us/step - loss: 1.5805 - acc: 0.4453 - val_loss: 1.6426 - val_acc: 0.4198\n",
      "Epoch 9/25\n",
      "50000/50000 [==============================] - 4s 84us/step - loss: 1.5570 - acc: 0.4539 - val_loss: 1.6247 - val_acc: 0.4236\n",
      "Epoch 10/25\n",
      "50000/50000 [==============================] - 4s 86us/step - loss: 1.5361 - acc: 0.4611 - val_loss: 1.6006 - val_acc: 0.4339\n",
      "Epoch 11/25\n",
      "50000/50000 [==============================] - 4s 86us/step - loss: 1.5170 - acc: 0.4691 - val_loss: 1.5987 - val_acc: 0.4347\n",
      "Epoch 12/25\n",
      "50000/50000 [==============================] - 5s 99us/step - loss: 1.4990 - acc: 0.4737 - val_loss: 1.5718 - val_acc: 0.4439\n",
      "Epoch 13/25\n",
      "50000/50000 [==============================] - 5s 101us/step - loss: 1.4811 - acc: 0.4799 - val_loss: 1.5700 - val_acc: 0.4469\n",
      "Epoch 14/25\n",
      "50000/50000 [==============================] - 5s 95us/step - loss: 1.4648 - acc: 0.4850 - val_loss: 1.5647 - val_acc: 0.4494\n",
      "Epoch 15/25\n",
      "50000/50000 [==============================] - 5s 95us/step - loss: 1.4497 - acc: 0.4900 - val_loss: 1.5457 - val_acc: 0.4549\n",
      "Epoch 16/25\n",
      "50000/50000 [==============================] - 5s 100us/step - loss: 1.4367 - acc: 0.4943 - val_loss: 1.5497 - val_acc: 0.4478\n",
      "Epoch 17/25\n",
      "50000/50000 [==============================] - 5s 95us/step - loss: 1.4228 - acc: 0.4978 - val_loss: 1.5509 - val_acc: 0.4499\n",
      "Epoch 18/25\n",
      "50000/50000 [==============================] - 5s 95us/step - loss: 1.4093 - acc: 0.5031 - val_loss: 1.5390 - val_acc: 0.4561\n",
      "Epoch 19/25\n",
      "50000/50000 [==============================] - 5s 98us/step - loss: 1.3968 - acc: 0.5073 - val_loss: 1.5327 - val_acc: 0.4592\n",
      "Epoch 20/25\n",
      "50000/50000 [==============================] - 5s 97us/step - loss: 1.3843 - acc: 0.5119 - val_loss: 1.5339 - val_acc: 0.4619\n",
      "Epoch 21/25\n",
      "50000/50000 [==============================] - 5s 94us/step - loss: 1.3712 - acc: 0.5163 - val_loss: 1.5147 - val_acc: 0.4671\n",
      "Epoch 22/25\n",
      "50000/50000 [==============================] - 5s 98us/step - loss: 1.3596 - acc: 0.5213 - val_loss: 1.5089 - val_acc: 0.4671\n",
      "Epoch 23/25\n",
      "50000/50000 [==============================] - 5s 108us/step - loss: 1.3473 - acc: 0.5249 - val_loss: 1.5102 - val_acc: 0.4620\n",
      "Epoch 24/25\n",
      "50000/50000 [==============================] - 5s 97us/step - loss: 1.3368 - acc: 0.5297 - val_loss: 1.5047 - val_acc: 0.4688\n",
      "Epoch 25/25\n",
      "50000/50000 [==============================] - 5s 101us/step - loss: 1.3242 - acc: 0.5348 - val_loss: 1.4972 - val_acc: 0.4699\n"
     ]
    }
   ],
   "source": [
    "model = build_mlp(input_shape=x_train.shape[1:])\n",
    "model.summary()\n",
    "optimizer = keras.optimizers.SGD(lr=LEARNING_RATE, nesterov=True, momentum=MOMENTUM)\n",
    "model.compile(loss=\"categorical_crossentropy\", metrics=[\"accuracy\"], optimizer=optimizer)\n",
    "\n",
    "\"\"\"Code Here\n",
    "將 callbacks 放入模型訓練流程中\n",
    "\"\"\"\n",
    "model.fit(x_train, y_train, \n",
    "          epochs=EPOCHS, \n",
    "          batch_size=BATCH_SIZE, \n",
    "          validation_data=(x_test, y_test), \n",
    "          shuffle=True,\n",
    "          callbacks=[rec_tptn]\n",
    "         )\n",
    "\n",
    "\n",
    "# Collect results\n",
    "train_loss = model.history.history[\"loss\"]\n",
    "valid_loss = model.history.history[\"val_loss\"]\n",
    "train_acc = model.history.history[\"acc\"]\n",
    "valid_acc = model.history.history[\"val_acc\"]\n",
    "\n",
    "\"\"\"Code Here\n",
    "將 tp/tn 從訓練完的模型中取出\n",
    "\"\"\"\n",
    "valid_tp = model.history.history['val_tp']\n",
    "valid_tn = model.history.history['val_tn']"
   ]
  },
  {
   "cell_type": "code",
   "execution_count": 9,
   "metadata": {},
   "outputs": [
    {
     "data": {
      "image/png": "[encoded data removed]",
      "text/plain": [
       "<Figure size 432x288 with 1 Axes>"
      ]
     },
     "metadata": {
      "needs_background": "light"
     },
     "output_type": "display_data"
    },
    {
     "data": {
      "image/png": "[encoded data removed]",
      "text/plain": [
       "<Figure size 432x288 with 1 Axes>"
      ]
     },
     "metadata": {
      "needs_background": "light"
     },
     "output_type": "display_data"
    },
    {
     "data": {
      "image/png": "[encoded data removed]",
      "text/plain": [
       "<Figure size 432x288 with 1 Axes>"
      ]
     },
     "metadata": {
      "needs_background": "light"
     },
     "output_type": "display_data"
    }
   ],
   "source": [
    "import matplotlib.pyplot as plt\n",
    "%matplotlib inline\n",
    "\n",
    "plt.plot(range(len(train_loss)), train_loss, label=\"train loss\")\n",
    "plt.plot(range(len(valid_loss)), valid_loss, label=\"valid loss\")\n",
    "plt.legend()\n",
    "plt.title(\"Loss\")\n",
    "plt.show()\n",
    "\n",
    "plt.plot(range(len(train_acc)), train_acc, label=\"train accuracy\")\n",
    "plt.plot(range(len(valid_acc)), valid_acc, label=\"valid accuracy\")\n",
    "plt.legend()\n",
    "plt.title(\"Accuracy\")\n",
    "plt.show()\n",
    "\n",
    "plt.plot(range(len(valid_tp)), valid_tp, label=\"valid tp\", color=\"navy\")\n",
    "plt.plot(range(len(valid_tn)), valid_tn, label=\"valid tn\", color=\"red\")\n",
    "plt.legend()\n",
    "plt.title(\"True positives and True Negatives\")\n",
    "plt.show()\n"
   ]
  },
  {
   "cell_type": "code",
   "execution_count": null,
   "metadata": {},
   "outputs": [],
   "source": []
  }
 ],
 "metadata": {
  "kernelspec": {
   "display_name": "Python 3",
   "language": "python",
   "name": "python3"
  },
  "language_info": {
   "codemirror_mode": {
    "name": "ipython",
    "version": 3
   },
   "file_extension": ".py",
   "mimetype": "text/x-python",
   "name": "python",
   "nbconvert_exporter": "python",
   "pygments_lexer": "ipython3",
   "version": "3.7.3"
  }
 },
 "nbformat": 4,
 "nbformat_minor": 2
}
